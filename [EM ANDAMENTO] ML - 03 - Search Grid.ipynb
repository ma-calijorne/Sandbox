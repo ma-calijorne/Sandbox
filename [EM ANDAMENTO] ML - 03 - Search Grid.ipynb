{
    "nbformat_minor": 1, 
    "cells": [
        {
            "source": "<div class=\"alert alert-block alert-info\">\n<b>Notebook Description:</b> Este Notebook tem o objetivo implementar o algoritmo DB Scan visando clusterizar as informa\u00e7\u00f5es inicialmente tratadas.\n</div>", 
            "cell_type": "markdown", 
            "metadata": {}
        }, 
        {
            "source": "### **SUM\u00c1RIO**\n>1. [01 - Pacotes Necess\u00e1rio](#pacotes)\n>2. [02 - Carga de Dados](#carga-dados)\n>3. [03 - Search Grid](#searchgrid)", 
            "cell_type": "markdown", 
            "metadata": {}
        }, 
        {
            "source": "<font size=\"6\"><a id=\"pacotes\">01 - Pacotes Necess\u00e1rios</a></font>\n***", 
            "cell_type": "markdown", 
            "metadata": {}
        }, 
        {
            "source": "<div class=\"alert alert-block alert-success\">\n<b>Section Description: </b> Esta se\u00e7\u00e3o tem como objetivo carregar e instalar os pacotes pythn necess\u00e1rios.\n</div>", 
            "cell_type": "markdown", 
            "metadata": {}
        }, 
        {
            "execution_count": 1, 
            "cell_type": "code", 
            "metadata": {}, 
            "outputs": [], 
            "source": "import numpy as np\nimport matplotlib.pyplot as plt\n%matplotlib inline\n\nimport types\nimport pandas as pd\nimport seaborn as sns\nfrom botocore.client import Config\nimport ibm_boto3\nfrom scipy import stats\n\nfrom sklearn.datasets.samples_generator import make_blobs\nfrom sklearn.cluster import DBSCAN\nfrom sklearn import metrics\nfrom sklearn.preprocessing import StandardScaler\nfrom sklearn.preprocessing import LabelEncoder\n"
        }, 
        {
            "source": "<font size=\"6\"><a id=\"pacotes\">02 - Carga de Dados</a></font>\n***", 
            "cell_type": "markdown", 
            "metadata": {}
        }, 
        {
            "source": "<div class=\"alert alert-block alert-success\">\n<b>Section Description: </b> Carga dos dados de cobran\u00e7a tratados para todas as origens de dados. Alguns campos j\u00e1 foram modelados para funcionar como features, outros ser\u00e3o tratados neste notebook. Al\u00e9m dos tratamentos, algumas colunas ser\u00e3o removidas por n\u00e3o serem necess\u00e1rias neste momento.\n   \n</div>", 
            "cell_type": "markdown", 
            "metadata": {}
        }, 
        {
            "execution_count": 2, 
            "cell_type": "code", 
            "metadata": {}, 
            "outputs": [], 
            "source": "# The code was removed by Watson Studio for sharing."
        }, 
        {
            "execution_count": 3, 
            "cell_type": "code", 
            "metadata": {}, 
            "outputs": [
                {
                    "execution_count": 3, 
                    "metadata": {}, 
                    "data": {
                        "text/html": "<div>\n<style scoped>\n    .dataframe tbody tr th:only-of-type {\n        vertical-align: middle;\n    }\n\n    .dataframe tbody tr th {\n        vertical-align: top;\n    }\n\n    .dataframe thead th {\n        text-align: right;\n    }\n</style>\n<table border=\"1\" class=\"dataframe\">\n  <thead>\n    <tr style=\"text-align: right;\">\n      <th></th>\n      <th>CC_Codigo_Forma_Contratacao</th>\n      <th>CC_Codigo_Motivo_Inadimplencia</th>\n      <th>CC_Limite_Inicial_Faixa_Inadimplencia</th>\n      <th>CC_Limite_Final_Faixa_Inadimplencia</th>\n      <th>CC_Valor_Vencido</th>\n      <th>CC_Valor_Vicendo</th>\n      <th>CC_Saldo_Devedor_Presente_Taxa_Real</th>\n      <th>CC_Saldo_Devedor_Vicendo_Presente_Taxa_Real</th>\n      <th>CC_Saldo_Devedor_Presente_Taxa_Cessao</th>\n      <th>CC_Saldo_Devedor_Vicendo_Presente_Taxa_Cessao</th>\n      <th>...</th>\n      <th>MF_Unidade_Cobranca_JUR\u00cdDICO OL\u00c9</th>\n      <th>MF_Unidade_Cobranca_MATRIZ</th>\n      <th>MF_Unidade_Cobranca_PASCHOALOTTO</th>\n      <th>MF_Unidade_Cobranca_REDEBRASIL</th>\n      <th>MF_Unidade_Cobranca_TRC</th>\n      <th>MF_Tipo_Lancamento_0</th>\n      <th>MF_Tipo_Lancamento_ACORDO</th>\n      <th>MF_Tipo_Lancamento_AVULSO</th>\n      <th>MF_Tipo_Lancamento_PROMESSA</th>\n      <th>MF_Tipo_Lancamento_QUITA\u00c7\u00c3O</th>\n    </tr>\n  </thead>\n  <tbody>\n    <tr>\n      <th>0</th>\n      <td>1</td>\n      <td>55</td>\n      <td>541</td>\n      <td>9999</td>\n      <td>203364</td>\n      <td>0</td>\n      <td>157093</td>\n      <td>0</td>\n      <td>0</td>\n      <td>0</td>\n      <td>...</td>\n      <td>0</td>\n      <td>0</td>\n      <td>0</td>\n      <td>0</td>\n      <td>0</td>\n      <td>1</td>\n      <td>0</td>\n      <td>0</td>\n      <td>0</td>\n      <td>0</td>\n    </tr>\n  </tbody>\n</table>\n<p>1 rows \u00d7 193 columns</p>\n</div>", 
                        "text/plain": "   CC_Codigo_Forma_Contratacao  CC_Codigo_Motivo_Inadimplencia  \\\n0                            1                              55   \n\n   CC_Limite_Inicial_Faixa_Inadimplencia  CC_Limite_Final_Faixa_Inadimplencia  \\\n0                                    541                                 9999   \n\n   CC_Valor_Vencido  CC_Valor_Vicendo  CC_Saldo_Devedor_Presente_Taxa_Real  \\\n0            203364                 0                               157093   \n\n   CC_Saldo_Devedor_Vicendo_Presente_Taxa_Real  \\\n0                                            0   \n\n   CC_Saldo_Devedor_Presente_Taxa_Cessao  \\\n0                                      0   \n\n   CC_Saldo_Devedor_Vicendo_Presente_Taxa_Cessao             ...               \\\n0                                              0             ...                \n\n   MF_Unidade_Cobranca_JUR\u00cdDICO OL\u00c9  MF_Unidade_Cobranca_MATRIZ  \\\n0                                 0                           0   \n\n   MF_Unidade_Cobranca_PASCHOALOTTO  MF_Unidade_Cobranca_REDEBRASIL  \\\n0                                 0                               0   \n\n   MF_Unidade_Cobranca_TRC  MF_Tipo_Lancamento_0  MF_Tipo_Lancamento_ACORDO  \\\n0                        0                     1                          0   \n\n   MF_Tipo_Lancamento_AVULSO  MF_Tipo_Lancamento_PROMESSA  \\\n0                          0                            0   \n\n   MF_Tipo_Lancamento_QUITA\u00c7\u00c3O  \n0                            0  \n\n[1 rows x 193 columns]"
                    }, 
                    "output_type": "execute_result"
                }
            ], 
            "source": "body = conn.get_object(Bucket='collectionstore-donotdelete-pr-srtftgw3pqth9i',Key='ArquivoTreinamento.csv')['Body']\n# add missing __iter__ method, so pandas accepts body as file-like object\nif not hasattr(body, \"__iter__\"): body.__iter__ = types.MethodType( __iter__, body )\n\ndfArquivoGeral = pd.read_csv(body,sep=';',decimal=',', thousands='.',keep_default_na=True, low_memory=False)\ndfArquivoGeral.head(1)"
        }, 
        {
            "source": "***", 
            "cell_type": "markdown", 
            "metadata": {}
        }, 
        {
            "source": "<font size=\"6\"><a id=\"searchgrid\">03 - Search Grid</a></font>\n***", 
            "cell_type": "markdown", 
            "metadata": {}
        }, 
        {
            "execution_count": 4, 
            "cell_type": "code", 
            "metadata": {}, 
            "outputs": [], 
            "source": "def dbscan_grid_search(X_data, lst, clst_count, eps_space = 0.5,\n                       min_samples_space = 5, min_clust = 0, max_clust = 10):\n\n    from collections import Counter\n    n_iterations = 0\n\n\n    for eps_val in np.arange(0.1, eps_space, 0.1):\n        for samples_val in range (0,min_samples_space):\n            print(eps_val)\n            dbscan_grid = DBSCAN(eps = eps_val,\n                                 min_samples = samples_val)\n            clusters = dbscan_grid.fit_predict(X = X_data)\n            cluster_count = Counter(clusters)\n            n_clusters = sum(abs(pd.np.unique(clusters))) - 1\n            n_iterations += 1\n            if n_clusters >= min_clust and n_clusters <= max_clust:\n                dbscan_clusters.append([eps_val,samples_val,n_clusters])\n                clst_count.append(cluster_count)\n    print('Busca Completada. O tamanho agora \u00e9: {}.'.format(lst))\n    print('Checagem de Combina\u00e7\u00f5es de Hiperparametros: {}.'.format(n_iterations))"
        }, 
        {
            "execution_count": 5, 
            "cell_type": "code", 
            "metadata": {}, 
            "outputs": [
                {
                    "output_type": "stream", 
                    "name": "stdout", 
                    "text": "0.1\n0.1\n0.1\n0.1\n0.1\n0.2\n0.2\n0.2\n0.2\n0.2\n0.3\n0.3\n0.3\n0.3\n0.3\n0.4\n0.4\n0.4\n0.4\n0.4\nBusca Completada. O tamanho agora \u00e9: [].\nChecagem de Combina\u00e7\u00f5es de Hiperparametros: 20.\n"
                }
            ], 
            "source": "lst = []\nclst_count = []\ndbscan_grid_search(dfArquivoGeral.values,lst,clst_count)"
        }, 
        {
            "execution_count": null, 
            "cell_type": "code", 
            "metadata": {}, 
            "outputs": [], 
            "source": ""
        }
    ], 
    "metadata": {
        "kernelspec": {
            "display_name": "Python 3.5", 
            "name": "python3", 
            "language": "python"
        }, 
        "language_info": {
            "mimetype": "text/x-python", 
            "nbconvert_exporter": "python", 
            "version": "3.5.5", 
            "name": "python", 
            "file_extension": ".py", 
            "pygments_lexer": "ipython3", 
            "codemirror_mode": {
                "version": 3, 
                "name": "ipython"
            }
        }
    }, 
    "nbformat": 4
}